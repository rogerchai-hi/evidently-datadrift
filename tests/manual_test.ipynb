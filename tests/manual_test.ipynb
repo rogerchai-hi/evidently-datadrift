{
 "cells": [
  {
   "cell_type": "code",
   "execution_count": 6,
   "id": "56e8d789",
   "metadata": {},
   "outputs": [],
   "source": [
    "from evidently import Dataset\n",
    "from evidently import DataDefinition\n",
    "from evidently import Report\n",
    "from evidently.presets import DataDriftPreset, DataSummaryPreset\n",
    "from evidently.metrics import ValueDrift\n",
    "from evidently.legacy.tests.base_test import TestStatus"
   ]
  },
  {
   "cell_type": "code",
   "execution_count": 2,
   "id": "9c1a1d15",
   "metadata": {},
   "outputs": [],
   "source": [
    "import pandas as pd"
   ]
  },
  {
   "cell_type": "code",
   "execution_count": 3,
   "id": "44573902",
   "metadata": {},
   "outputs": [],
   "source": [
    "df = pd.read_parquet(r\"..\\test_data\\demographic_data.parquet\")"
   ]
  },
  {
   "cell_type": "code",
   "execution_count": 4,
   "id": "95168dff",
   "metadata": {},
   "outputs": [],
   "source": [
    "dates = df[\"data-date\"].drop_duplicates().sort_values(ascending=False)\n",
    "\n",
    "cur_series = df[df[\"data-date\"] == dates.iloc[0]][\"age\"]\n",
    "ref_series = df[df[\"data-date\"] == dates.iloc[1]][\"age\"]"
   ]
  },
  {
   "cell_type": "code",
   "execution_count": 5,
   "id": "d1165857",
   "metadata": {},
   "outputs": [],
   "source": [
    "reference = pd.DataFrame({\"score\": ref_series})\n",
    "current = pd.DataFrame({\"score\": cur_series})\n",
    "\n",
    "report = Report(metrics=[ValueDrift(column=\"score\")], include_tests=True)"
   ]
  },
  {
   "cell_type": "code",
   "execution_count": 6,
   "id": "990a137d",
   "metadata": {},
   "outputs": [],
   "source": [
    "output = report.run(reference_data=reference, current_data=current)"
   ]
  },
  {
   "cell_type": "code",
   "execution_count": 7,
   "id": "bbebf883",
   "metadata": {},
   "outputs": [],
   "source": [
    "payload = output.dict()"
   ]
  },
  {
   "cell_type": "code",
   "execution_count": 8,
   "id": "22850bc7",
   "metadata": {},
   "outputs": [],
   "source": [
    "metric_value = str(round(payload[\"metrics\"][0][\"value\"], 3))\n",
    "result = payload[\"tests\"][0][\"description\"]\n",
    "status_bool = payload[\"tests\"][0][\"status\"]"
   ]
  },
  {
   "cell_type": "code",
   "execution_count": null,
   "id": "39732c00",
   "metadata": {},
   "outputs": [],
   "source": []
  },
  {
   "cell_type": "code",
   "execution_count": null,
   "id": "83d61ac5",
   "metadata": {},
   "outputs": [],
   "source": []
  }
 ],
 "metadata": {
  "kernelspec": {
   "display_name": "evidently-datadrift-py3.11",
   "language": "python",
   "name": "python3"
  },
  "language_info": {
   "codemirror_mode": {
    "name": "ipython",
    "version": 3
   },
   "file_extension": ".py",
   "mimetype": "text/x-python",
   "name": "python",
   "nbconvert_exporter": "python",
   "pygments_lexer": "ipython3",
   "version": "3.11.1"
  }
 },
 "nbformat": 4,
 "nbformat_minor": 5
}
